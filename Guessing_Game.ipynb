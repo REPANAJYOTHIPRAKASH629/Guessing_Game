{
  "nbformat": 4,
  "nbformat_minor": 0,
  "metadata": {
    "colab": {
      "provenance": [],
      "authorship_tag": "ABX9TyPrhA+8F7zb8/2J7b4VVlra",
      "include_colab_link": true
    },
    "kernelspec": {
      "name": "python3",
      "display_name": "Python 3"
    },
    "language_info": {
      "name": "python"
    }
  },
  "cells": [
    {
      "cell_type": "markdown",
      "metadata": {
        "id": "view-in-github",
        "colab_type": "text"
      },
      "source": [
        "<a href=\"https://colab.research.google.com/github/REPANAJYOTHIPRAKASH629/Guessing_Game/blob/main/Guessing_Game.ipynb\" target=\"_parent\"><img src=\"https://colab.research.google.com/assets/colab-badge.svg\" alt=\"Open In Colab\"/></a>"
      ]
    },
    {
      "cell_type": "markdown",
      "source": [
        "# **Guessing Game**"
      ],
      "metadata": {
        "id": "MsaoG6cpZ-3p"
      }
    },
    {
      "cell_type": "code",
      "source": [
        "import random\n",
        "\n",
        "jackpot = random.randint(1,100)\n",
        "\n",
        "guess = int(input(\"guess the number between 1 to 100 : \"))\n",
        "\n",
        "count = 1\n",
        "\n",
        "while guess != jackpot:\n",
        "  if guess < jackpot:\n",
        "    print(\"Wrong, guess the high number\")\n",
        "  else:\n",
        "    print(\"Wrong, guess the low number\")\n",
        "  guess = int(input(\"Guess the number : \"))\n",
        "  count += 1\n",
        "else:\n",
        "  print(\"Correct guess\")\n",
        "  print(\"Attempts : \",count)"
      ],
      "metadata": {
        "colab": {
          "base_uri": "https://localhost:8080/"
        },
        "id": "lcFV3JuaaJvd",
        "outputId": "9ff70999-1a3b-4f0d-ccbd-f8e698e2b8e8"
      },
      "execution_count": 2,
      "outputs": [
        {
          "output_type": "stream",
          "name": "stdout",
          "text": [
            "guess the number between 1 to 100 : 67\n",
            "Wrong, guess the low number\n",
            "Guess the number : 50\n",
            "Wrong, guess the low number\n",
            "Guess the number : 40\n",
            "Wrong, guess the low number\n",
            "Guess the number : 32\n",
            "Wrong, guess the low number\n",
            "Guess the number : 10\n",
            "Wrong, guess the high number\n",
            "Guess the number : 20\n",
            "Wrong, guess the high number\n",
            "Guess the number : 22\n",
            "Wrong, guess the high number\n",
            "Guess the number : 25\n",
            "Wrong, guess the high number\n",
            "Guess the number : 28\n",
            "Wrong, guess the high number\n",
            "Guess the number : 30\n",
            "Correct guess\n",
            "Attempts :  10\n"
          ]
        }
      ]
    }
  ]
}